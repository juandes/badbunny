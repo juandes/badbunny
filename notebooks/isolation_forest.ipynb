{
 "cells": [
  {
   "cell_type": "code",
   "execution_count": 5,
   "id": "knowing-shanghai",
   "metadata": {},
   "outputs": [],
   "source": [
    "import pandas as pd\n",
    "from sklearn.ensemble import IsolationForest"
   ]
  },
  {
   "cell_type": "code",
   "execution_count": 6,
   "id": "legitimate-uruguay",
   "metadata": {},
   "outputs": [],
   "source": [
    "df = pd.read_csv(\"../data/weekdays_hours.csv\")"
   ]
  },
  {
   "cell_type": "code",
   "execution_count": 7,
   "id": "equal-destiny",
   "metadata": {},
   "outputs": [],
   "source": [
    "X = pd.get_dummies(df)"
   ]
  },
  {
   "cell_type": "code",
   "execution_count": 8,
   "id": "grave-section",
   "metadata": {},
   "outputs": [
    {
     "data": {
      "text/plain": [
       " 1    4051\n",
       "-1     426\n",
       "dtype: int64"
      ]
     },
     "execution_count": 8,
     "metadata": {},
     "output_type": "execute_result"
    }
   ],
   "source": [
    "clf = IsolationForest(random_state=0, contamination = 0.1).fit(X)\n",
    "# Don't do this in \"real life\"!\n",
    "predictions = clf.predict(X)\n",
    "predictions_series = pd.Series(predictions)\n",
    "predictions_series.value_counts()"
   ]
  },
  {
   "cell_type": "code",
   "execution_count": null,
   "id": "narrative-forward",
   "metadata": {},
   "outputs": [],
   "source": [
    "scores = clf.decision_function(X)"
   ]
  },
  {
   "cell_type": "code",
   "execution_count": null,
   "id": "a6a53a4c-3fdf-4af3-89b3-97ccdfb1869f",
   "metadata": {},
   "outputs": [],
   "source": [
    "results = pd.DataFrame({\"predictions\": predictions, \"scores\": scores})\n",
    "results.to_csv(\"data/results.csv\", index=False)"
   ]
  },
  {
   "cell_type": "code",
   "execution_count": 21,
   "id": "actual-december",
   "metadata": {},
   "outputs": [],
   "source": [
    "def predict_input(hour, weekday):\n",
    "    # https://stackoverflow.com/questions/28465633/easy-way-to-apply-transformation-from-pandas-get-dummies-to-new-data\n",
    "    df1 = pd.get_dummies(pd.DataFrame({'hour':[hour],'weekday':[weekday]}))\n",
    "    dummies_frame = pd.get_dummies(X)\n",
    "    input = df1.reindex(columns = dummies_frame.columns, fill_value=0)\n",
    "    prediction = clf.predict(input)\n",
    "    score = clf.decision_function(input)\n",
    "    print(\"Prediction: {} (score: {})\".format(prediction, score))"
   ]
  },
  {
   "cell_type": "code",
   "execution_count": 22,
   "id": "collaborative-overhead",
   "metadata": {},
   "outputs": [
    {
     "name": "stdout",
     "output_type": "stream",
     "text": [
      "   hour  weekday_Friday  weekday_Monday  weekday_Saturday  weekday_Sunday  \\\n",
      "0     9               1               0                 0               0   \n",
      "\n",
      "   weekday_Thursday  weekday_Tuesday  weekday_Wednesday  \n",
      "0                 0                0                  0  \n",
      "Prediction: [1] (score: [0.01018511])\n"
     ]
    }
   ],
   "source": [
    "predict_input(9, 'Friday')"
   ]
  },
  {
   "cell_type": "code",
   "execution_count": 11,
   "id": "marine-authentication",
   "metadata": {},
   "outputs": [
    {
     "name": "stdout",
     "output_type": "stream",
     "text": [
      "Prediction: [1] (score: [0.02964442])\n"
     ]
    }
   ],
   "source": [
    "predict_input(11, 'Monday')"
   ]
  },
  {
   "cell_type": "code",
   "execution_count": 12,
   "id": "minute-indonesia",
   "metadata": {},
   "outputs": [
    {
     "name": "stdout",
     "output_type": "stream",
     "text": [
      "Prediction: [-1] (score: [-0.09120146])\n"
     ]
    }
   ],
   "source": [
    "predict_input(2, 'Monday')"
   ]
  },
  {
   "cell_type": "code",
   "execution_count": 13,
   "id": "muslim-coffee",
   "metadata": {},
   "outputs": [
    {
     "name": "stdout",
     "output_type": "stream",
     "text": [
      "Prediction: [1] (score: [0.05751272])\n"
     ]
    }
   ],
   "source": [
    "predict_input(11, 'Wednesday')"
   ]
  },
  {
   "cell_type": "code",
   "execution_count": 14,
   "id": "human-things",
   "metadata": {},
   "outputs": [
    {
     "name": "stdout",
     "output_type": "stream",
     "text": [
      "Prediction: [-1] (score: [-0.07626352])\n"
     ]
    }
   ],
   "source": [
    "predict_input(1, 'Thursday')"
   ]
  },
  {
   "cell_type": "code",
   "execution_count": 15,
   "id": "seven-security",
   "metadata": {},
   "outputs": [
    {
     "name": "stdout",
     "output_type": "stream",
     "text": [
      "Prediction: [1] (score: [0.06730916])\n"
     ]
    }
   ],
   "source": [
    "predict_input(17, 'Thursday')"
   ]
  }
 ],
 "metadata": {
  "kernelspec": {
   "display_name": "Python 3 (ipykernel)",
   "language": "python",
   "name": "python3"
  },
  "language_info": {
   "codemirror_mode": {
    "name": "ipython",
    "version": 3
   },
   "file_extension": ".py",
   "mimetype": "text/x-python",
   "name": "python",
   "nbconvert_exporter": "python",
   "pygments_lexer": "ipython3",
   "version": "3.9.13"
  }
 },
 "nbformat": 4,
 "nbformat_minor": 5
}
